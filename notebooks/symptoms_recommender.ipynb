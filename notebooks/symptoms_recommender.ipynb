{
 "cells": [
  {
   "cell_type": "code",
   "execution_count": 1,
   "id": "b3731588-8a8d-450b-83ba-20385dad1cc0",
   "metadata": {},
   "outputs": [
    {
     "name": "stdout",
     "output_type": "stream",
     "text": [
      "✅ Related symptoms model saved as 'symptom_related_map.pkl'\n"
     ]
    }
   ],
   "source": [
    "import pandas as pd\n",
    "from collections import defaultdict\n",
    "import pickle\n",
    "\n",
    "# Step 1: Load the dataset\n",
    "df = pd.read_csv(\"../data/Final_Augmented_dataset_Diseases_and_Symptoms.csv\")\n",
    "\n",
    "# Step 2: Get list of all symptoms\n",
    "symptoms = df.columns[1:]  # excluding the 'diseases' column\n",
    "\n",
    "# Step 3: Build co-occurrence matrix\n",
    "symptom_cooccurrence = defaultdict(lambda: defaultdict(int))\n",
    "\n",
    "for _, row in df.iterrows():\n",
    "    present_symptoms = [sym for sym in symptoms if row[sym] == 1]\n",
    "    for i in present_symptoms:\n",
    "        for j in present_symptoms:\n",
    "            if i != j:\n",
    "                symptom_cooccurrence[i][j] += 1\n",
    "\n",
    "# Step 4: Convert to top N related symptoms (sorted)\n",
    "top_related_symptoms = {}\n",
    "\n",
    "for symptom, related in symptom_cooccurrence.items():\n",
    "    sorted_related = sorted(related.items(), key=lambda x: x[1], reverse=True)\n",
    "    top_related_symptoms[symptom] = [s for s, _ in sorted_related[:5]]  # top 5\n",
    "\n",
    "# Step 5: Save the result\n",
    "with open(\"../model/symptom_related_map.pkl\", \"wb\") as f:\n",
    "    pickle.dump(top_related_symptoms, f)\n",
    "\n",
    "print(\"✅ Related symptoms model saved as 'symptom_related_map.pkl'\")"
   ]
  },
  {
   "cell_type": "code",
   "execution_count": 2,
   "id": "230a4b8b-2f1a-4e94-8ba8-f4326c76e8d8",
   "metadata": {},
   "outputs": [
    {
     "data": {
      "text/plain": [
       "['vomiting', 'nausea', 'dizziness', 'sharp chest pain', 'fever']"
      ]
     },
     "execution_count": 2,
     "metadata": {},
     "output_type": "execute_result"
    }
   ],
   "source": [
    "import pickle\n",
    "with open(\"../model/symptom_related_map.pkl\", \"rb\") as f:\n",
    "    symptom_related = pickle.load(f)\n",
    "\n",
    "symptom_related[\"headache\"]  # 🔄 Replace with any symptom to test"
   ]
  },
  {
   "cell_type": "code",
   "execution_count": 3,
   "id": "1ade0c4d-7335-41b0-bfb7-c6934518b934",
   "metadata": {},
   "outputs": [],
   "source": [
    "import pickle\n",
    "from collections import Counter\n",
    "\n",
    "# Load the related symptoms dictionary\n",
    "with open(\"../model/symptom_related_map.pkl\", \"rb\") as f:\n",
    "    symptom_related = pickle.load(f)"
   ]
  },
  {
   "cell_type": "code",
   "execution_count": 4,
   "id": "864d3071-2ff7-49f4-97c3-9b8c7e08f412",
   "metadata": {},
   "outputs": [],
   "source": [
    "def suggest_related_symptoms(confirmed_symptoms, top_k=5):\n",
    "    \"\"\"\n",
    "    Suggest co-occurring symptoms based on already confirmed symptoms.\n",
    "    \"\"\"\n",
    "    all_related = []\n",
    "\n",
    "    for sym in confirmed_symptoms:\n",
    "        related = symptom_related.get(sym, [])\n",
    "        all_related.extend(related)\n",
    "\n",
    "    # Count how often each related symptom appeared\n",
    "    freq = Counter(all_related)\n",
    "\n",
    "    # Remove symptoms already confirmed\n",
    "    for sym in confirmed_symptoms:\n",
    "        if sym in freq:\n",
    "            del freq[sym]\n",
    "\n",
    "    # Return top K suggestions\n",
    "    return freq.most_common(top_k)"
   ]
  },
  {
   "cell_type": "code",
   "execution_count": 5,
   "id": "e053f4c6-377e-4182-b8ea-15007617c982",
   "metadata": {
    "scrolled": true
   },
   "outputs": [
    {
     "name": "stdout",
     "output_type": "stream",
     "text": [
      "Confirmed Symptoms: ['cough', 'sore throat', 'fever']\n",
      "Suggested Co-occurring Symptoms:\n",
      "→ nasal congestion (3x)\n",
      "→ coryza (3x)\n",
      "→ shortness of breath (1x)\n",
      "→ ear pain (1x)\n",
      "→ vomiting (1x)\n"
     ]
    }
   ],
   "source": [
    "confirmed_symptoms = [\"cough\", \"sore throat\", \"fever\"]\n",
    "suggestions = suggest_related_symptoms(confirmed_symptoms)\n",
    "\n",
    "print(\"Confirmed Symptoms:\", confirmed_symptoms)\n",
    "print(\"Suggested Co-occurring Symptoms:\")\n",
    "for sym, count in suggestions:\n",
    "    print(f\"→ {sym} ({count}x)\")"
   ]
  },
  {
   "cell_type": "code",
   "execution_count": null,
   "id": "a0fd46bb-9876-406d-9ed3-1bf7b20413a0",
   "metadata": {},
   "outputs": [],
   "source": []
  }
 ],
 "metadata": {
  "kernelspec": {
   "display_name": "Python 3 (ipykernel)",
   "language": "python",
   "name": "python3"
  },
  "language_info": {
   "codemirror_mode": {
    "name": "ipython",
    "version": 3
   },
   "file_extension": ".py",
   "mimetype": "text/x-python",
   "name": "python",
   "nbconvert_exporter": "python",
   "pygments_lexer": "ipython3",
   "version": "3.12.7"
  }
 },
 "nbformat": 4,
 "nbformat_minor": 5
}
