{
 "cells": [
  {
   "cell_type": "code",
   "execution_count": 3,
   "id": "9a89d082-8ca0-4dad-8f7f-a9d90f807b40",
   "metadata": {},
   "outputs": [
    {
     "name": "stdout",
     "output_type": "stream",
     "text": [
      "🔄 Processing: ../model/symptom_embeddings.pkl\n",
      "✅ Re-saved successfully.\n",
      "🔄 Processing: ../model/symptom_confidence_scores.pkl\n",
      "✅ Re-saved successfully.\n",
      "🔄 Processing: ../model/model_disease_frequency.pkl\n",
      "✅ Re-saved successfully.\n"
     ]
    }
   ],
   "source": [
    "import pickle\n",
    "\n",
    "model_files = [\n",
    "    \"../model/symptom_embeddings.pkl\",\n",
    "    \"../model/symptom_confidence_scores.pkl\",\n",
    "    \"../model/model_disease_frequency.pkl\"\n",
    "]\n",
    "\n",
    "for file_path in model_files:\n",
    "    print(f\"🔄 Processing: {file_path}\")\n",
    "    try:\n",
    "        with open(file_path, \"rb\") as f:\n",
    "            obj = pickle.load(f)  # ✅ NOT torch.load!\n",
    "        with open(file_path, \"wb\") as f:\n",
    "            pickle.dump(obj, f)\n",
    "        print(\"✅ Re-saved successfully.\")\n",
    "    except Exception as e:\n",
    "        print(f\"❌ Failed to process {file_path}: {e}\")"
   ]
  },
  {
   "cell_type": "code",
   "execution_count": 4,
   "id": "1f6b8378-74f8-49de-8085-251d28c81797",
   "metadata": {},
   "outputs": [
    {
     "name": "stdout",
     "output_type": "stream",
     "text": [
      "🔁 Re-saving: ../model/symptom_embeddings.pkl\n"
     ]
    },
    {
     "name": "stderr",
     "output_type": "stream",
     "text": [
      "/var/folders/j7/q41jdqbs44549h57hb3nhfv00000gn/T/ipykernel_11788/2073580371.py:11: FutureWarning: You are using `torch.load` with `weights_only=False` (the current default value), which uses the default pickle module implicitly. It is possible to construct malicious pickle data which will execute arbitrary code during unpickling (See https://github.com/pytorch/pytorch/blob/main/SECURITY.md#untrusted-models for more details). In a future release, the default value for `weights_only` will be flipped to `True`. This limits the functions that could be executed during unpickling. Arbitrary objects will no longer be allowed to be loaded via this mode unless they are explicitly allowlisted by the user via `torch.serialization.add_safe_globals`. We recommend you start setting `weights_only=True` for any use case where you don't have full control of the loaded file. Please open an issue on GitHub for any issues related to this experimental feature.\n",
      "  obj = torch.load(f, map_location=\"cpu\")  # <- key line\n"
     ]
    },
    {
     "name": "stdout",
     "output_type": "stream",
     "text": [
      "❌ Failed: Invalid magic number; corrupt file?\n"
     ]
    }
   ],
   "source": [
    "import torch, pickle\n",
    "\n",
    "model_files = [\n",
    "    \"../model/symptom_embeddings.pkl\"\n",
    "]\n",
    "\n",
    "for file_path in model_files:\n",
    "    print(f\"🔁 Re-saving: {file_path}\")\n",
    "    try:\n",
    "        with open(file_path, \"rb\") as f:\n",
    "            obj = torch.load(f, map_location=\"cpu\")  # <- key line\n",
    "\n",
    "        with open(file_path, \"wb\") as f:\n",
    "            pickle.dump(obj, f)\n",
    "\n",
    "        print(\"✅ Saved CPU-compatible version\")\n",
    "    except Exception as e:\n",
    "        print(f\"❌ Failed: {e}\")"
   ]
  },
  {
   "cell_type": "code",
   "execution_count": 5,
   "id": "71871120-2818-485d-94c3-92bdf6b3d2f4",
   "metadata": {},
   "outputs": [
    {
     "name": "stdout",
     "output_type": "stream",
     "text": [
      "🔁 Re-loading & saving: ../model/symptom_embeddings.pkl\n",
      "✅ Re-saved with CPU-safe pickle\n"
     ]
    }
   ],
   "source": [
    "import pickle\n",
    "\n",
    "model_files = [\n",
    "    \"../model/symptom_embeddings.pkl\"\n",
    "]\n",
    "\n",
    "for file_path in model_files:\n",
    "    print(f\"🔁 Re-loading & saving: {file_path}\")\n",
    "    try:\n",
    "        with open(file_path, \"rb\") as f:\n",
    "            obj = pickle.load(f)  # ✅ Use pickle.load here, NOT torch.load\n",
    "\n",
    "        with open(file_path, \"wb\") as f:\n",
    "            pickle.dump(obj, f)\n",
    "\n",
    "        print(\"✅ Re-saved with CPU-safe pickle\")\n",
    "    except Exception as e:\n",
    "        print(f\"❌ Failed: {e}\")"
   ]
  },
  {
   "cell_type": "code",
   "execution_count": 6,
   "id": "a6768e17-69e4-4ddb-b5b6-ed6823894574",
   "metadata": {},
   "outputs": [
    {
     "name": "stdout",
     "output_type": "stream",
     "text": [
      "✅ Successfully loaded: ../model/symptom_embeddings.pkl | Type: <class 'dict'>\n",
      "✅ Successfully loaded: ../model/symptom_confidence_scores.pkl | Type: <class 'dict'>\n",
      "✅ Successfully loaded: ../model/model_disease_frequency.pkl | Type: <class 'dict'>\n"
     ]
    }
   ],
   "source": [
    "import pickle\n",
    "\n",
    "# Test each file\n",
    "files = [\n",
    "    \"../model/symptom_embeddings.pkl\",\n",
    "    \"../model/symptom_confidence_scores.pkl\",\n",
    "    \"../model/model_disease_frequency.pkl\"\n",
    "]\n",
    "\n",
    "for file in files:\n",
    "    try:\n",
    "        with open(file, \"rb\") as f:\n",
    "            obj = pickle.load(f)\n",
    "        print(f\"✅ Successfully loaded: {file} | Type: {type(obj)}\")\n",
    "    except Exception as e:\n",
    "        print(f\"❌ Error loading {file}: {e}\")"
   ]
  },
  {
   "cell_type": "code",
   "execution_count": null,
   "id": "c8bae2fa-2e32-4756-a4b0-59db40ec9499",
   "metadata": {},
   "outputs": [],
   "source": []
  }
 ],
 "metadata": {
  "kernelspec": {
   "display_name": "Python 3 (ipykernel)",
   "language": "python",
   "name": "python3"
  },
  "language_info": {
   "codemirror_mode": {
    "name": "ipython",
    "version": 3
   },
   "file_extension": ".py",
   "mimetype": "text/x-python",
   "name": "python",
   "nbconvert_exporter": "python",
   "pygments_lexer": "ipython3",
   "version": "3.12.7"
  }
 },
 "nbformat": 4,
 "nbformat_minor": 5
}
