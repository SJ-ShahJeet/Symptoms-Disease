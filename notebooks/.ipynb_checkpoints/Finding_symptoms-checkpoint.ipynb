{
 "cells": [
  {
   "cell_type": "code",
   "execution_count": 1,
   "id": "0c365341-ee64-4ff8-9bce-20ab3070f46f",
   "metadata": {},
   "outputs": [],
   "source": [
    "# ✅ Step 1: Import all libraries\n",
    "import pandas as pd\n",
    "import torch\n",
    "import re\n",
    "import nltk\n",
    "from nltk.util import ngrams\n",
    "from nltk.corpus import stopwords\n",
    "from nltk.tokenize import word_tokenize\n",
    "from nltk.stem import WordNetLemmatizer\n",
    "from sentence_transformers import SentenceTransformer, util"
   ]
  },
  {
   "cell_type": "code",
   "execution_count": 2,
   "id": "d1b2b8b9-122c-45fe-b80c-00ea187d17c7",
   "metadata": {},
   "outputs": [
    {
     "name": "stderr",
     "output_type": "stream",
     "text": [
      "[nltk_data] Downloading package punkt to /Users/jeetshah/nltk_data...\n",
      "[nltk_data]   Package punkt is already up-to-date!\n",
      "[nltk_data] Downloading package stopwords to\n",
      "[nltk_data]     /Users/jeetshah/nltk_data...\n",
      "[nltk_data]   Package stopwords is already up-to-date!\n",
      "[nltk_data] Downloading package wordnet to\n",
      "[nltk_data]     /Users/jeetshah/nltk_data...\n",
      "[nltk_data]   Package wordnet is already up-to-date!\n"
     ]
    },
    {
     "data": {
      "text/plain": [
       "True"
      ]
     },
     "execution_count": 2,
     "metadata": {},
     "output_type": "execute_result"
    }
   ],
   "source": [
    "\n",
    "# ✅ Step 2: Download NLTK assets\n",
    "nltk.download('punkt')\n",
    "nltk.download('stopwords')\n",
    "nltk.download('wordnet')"
   ]
  },
  {
   "cell_type": "code",
   "execution_count": 3,
   "id": "00fb45bc-bdad-4b5c-91dd-ef086476459e",
   "metadata": {},
   "outputs": [],
   "source": [
    "# ✅ Step 3: Load dataset\n",
    "df = pd.read_csv(\"../data/Final_Augmented_dataset_Diseases_and_Symptoms.csv\")\n",
    "symptom_list = df.columns[1:].tolist()"
   ]
  },
  {
   "cell_type": "code",
   "execution_count": 4,
   "id": "359d4779-bc65-4895-a0c2-4e5490f8ef84",
   "metadata": {},
   "outputs": [],
   "source": [
    "model = SentenceTransformer(\"all-MiniLM-L6-v2\")"
   ]
  },
  {
   "cell_type": "code",
   "execution_count": 5,
   "id": "2db68dec-7bb3-4550-97b2-1c659a4de2a1",
   "metadata": {},
   "outputs": [],
   "source": [
    "symptom_embeddings = {\n",
    "    symptom: model.encode(symptom, convert_to_tensor=True)\n",
    "    for symptom in symptom_list\n",
    "}"
   ]
  },
  {
   "cell_type": "code",
   "execution_count": 6,
   "id": "e5b07194-3d88-483c-8958-d9446b762388",
   "metadata": {},
   "outputs": [],
   "source": [
    "stop_words = set(stopwords.words(\"english\"))\n",
    "lemmatizer = WordNetLemmatizer()\n",
    "\n",
    "def clean_and_tokenize(text):\n",
    "    text = text.lower()\n",
    "    text = re.sub(r\"[^a-zA-Z\\s]\", \"\", text)\n",
    "    tokens = word_tokenize(text)\n",
    "    return [lemmatizer.lemmatize(w) for w in tokens if w not in stop_words]"
   ]
  },
  {
   "cell_type": "code",
   "execution_count": 7,
   "id": "1eeffd49-16ac-4779-b487-fade42e925b1",
   "metadata": {},
   "outputs": [],
   "source": [
    "def extract_symptoms_fast(text, top_k=10):\n",
    "    tokens = clean_and_tokenize(text)\n",
    "    phrases = [\" \".join(gram) for n in range(1, 4) for gram in ngrams(tokens, n)]\n",
    "\n",
    "    # Encode all phrases in batch\n",
    "    input_vecs = model.encode(phrases, convert_to_tensor=True)\n",
    "\n",
    "    # Stack all symptom vectors\n",
    "    symptom_names = list(symptom_embeddings.keys())\n",
    "    symptom_matrix = torch.stack([symptom_embeddings[s] for s in symptom_names])\n",
    "\n",
    "    # Compute cosine similarity\n",
    "    sim_matrix = util.cos_sim(input_vecs, symptom_matrix)\n",
    "\n",
    "    # Get top matches\n",
    "    best_indices = torch.topk(sim_matrix.flatten(), top_k).indices\n",
    "\n",
    "    seen = set()\n",
    "    results = []\n",
    "    for idx in best_indices:\n",
    "        row, col = divmod(idx.item(), sim_matrix.shape[1])\n",
    "        symptom = symptom_names[col]\n",
    "        score = float(sim_matrix[row, col])\n",
    "        if symptom not in seen:\n",
    "            seen.add(symptom)\n",
    "            results.append((symptom, score))\n",
    "\n",
    "    return results"
   ]
  },
  {
   "cell_type": "code",
   "execution_count": 8,
   "id": "330e3d99-e03b-4dd5-bb61-7968ea9047fb",
   "metadata": {},
   "outputs": [
    {
     "name": "stdout",
     "output_type": "stream",
     "text": [
      "→ nausea (1.0000)\n",
      "→ cough (1.0000)\n",
      "→ vomiting (1.0000)\n",
      "→ sharp chest pain (0.8958)\n",
      "→ burning chest pain (0.8704)\n",
      "→ fever (0.8605)\n"
     ]
    }
   ],
   "source": [
    "user_input = \"I feel feverish, have chest pain and cough and even nausea or vomiting\"\n",
    "\n",
    "matches = extract_symptoms_fast(user_input)\n",
    "\n",
    "for sym, score in matches:\n",
    "    print(f\"→ {sym} ({score:.4f})\")"
   ]
  },
  {
   "cell_type": "code",
   "execution_count": 9,
   "id": "16840655-a34b-4636-a574-a7a24b7bc1ac",
   "metadata": {
    "scrolled": true
   },
   "outputs": [
    {
     "name": "stdout",
     "output_type": "stream",
     "text": [
      "\n",
      "✅ Time taken: 0.1203 seconds\n",
      "\n",
      "→ cough (1.0000)\n",
      "→ sleepiness (0.7388)\n",
      "→ fatigue (0.7206)\n",
      "→ insomnia (0.6901)\n"
     ]
    }
   ],
   "source": [
    "import time\n",
    "\n",
    "user_input = \"I feel tired and unable to sleep and bad cough\"\n",
    "\n",
    "start = time.time()\n",
    "matches = extract_symptoms_fast(user_input)\n",
    "end = time.time()\n",
    "\n",
    "print(f\"\\n✅ Time taken: {end - start:.4f} seconds\\n\")\n",
    "for sym, score in matches:\n",
    "    print(f\"→ {sym} ({score:.4f})\")"
   ]
  },
  {
   "cell_type": "code",
   "execution_count": 10,
   "id": "6d1bb165-aec2-4386-ba11-7c6c596e4911",
   "metadata": {},
   "outputs": [
    {
     "name": "stdout",
     "output_type": "stream",
     "text": [
      "✅ Saved symptom embeddings and list successfully.\n"
     ]
    }
   ],
   "source": [
    "import pickle\n",
    "import os\n",
    "\n",
    "# Create the directory if it doesn't exist\n",
    "os.makedirs(\"../model\", exist_ok=True)\n",
    "\n",
    "# Save embeddings dictionary\n",
    "with open(\"../model/symptom_embeddings.pkl\", \"wb\") as f:\n",
    "    pickle.dump(symptom_embeddings, f)\n",
    "\n",
    "# Save symptom list (optional, but good to have)\n",
    "with open(\"../model/symptom_list.pkl\", \"wb\") as f:\n",
    "    pickle.dump(symptom_list, f)\n",
    "\n",
    "print(\"✅ Saved symptom embeddings and list successfully.\")"
   ]
  },
  {
   "cell_type": "code",
   "execution_count": null,
   "id": "16767be5-be19-49c3-8afb-c6c75e9d8342",
   "metadata": {},
   "outputs": [],
   "source": []
  }
 ],
 "metadata": {
  "kernelspec": {
   "display_name": "Python 3 (ipykernel)",
   "language": "python",
   "name": "python3"
  },
  "language_info": {
   "codemirror_mode": {
    "name": "ipython",
    "version": 3
   },
   "file_extension": ".py",
   "mimetype": "text/x-python",
   "name": "python",
   "nbconvert_exporter": "python",
   "pygments_lexer": "ipython3",
   "version": "3.12.7"
  }
 },
 "nbformat": 4,
 "nbformat_minor": 5
}
