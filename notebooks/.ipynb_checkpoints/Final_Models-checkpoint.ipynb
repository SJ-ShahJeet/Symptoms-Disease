{
 "cells": [
  {
   "cell_type": "code",
   "execution_count": 1,
   "id": "5caf59cd-5c35-4308-b36b-eb032f2e57f5",
   "metadata": {},
   "outputs": [],
   "source": [
    "!pip install -q sentence-transformers"
   ]
  },
  {
   "cell_type": "code",
   "execution_count": 2,
   "id": "50ee5409-bf32-40dd-b277-42ea9bb6c0de",
   "metadata": {},
   "outputs": [],
   "source": [
    "import pandas as pd\n",
    "import pickle\n",
    "import os\n",
    "from sentence_transformers import SentenceTransformer\n",
    "\n",
    "# Create model directory if it doesn't exist\n",
    "os.makedirs(\"../model\", exist_ok=True)"
   ]
  },
  {
   "cell_type": "code",
   "execution_count": 3,
   "id": "d8284475-c776-4b92-a7f0-ea7e19901324",
   "metadata": {},
   "outputs": [],
   "source": [
    "# Load the CSV file\n",
    "df = pd.read_csv(\"../data/Final_Augmented_dataset_Diseases_and_Symptoms.csv\")\n",
    "\n",
    "# Extract all symptom column names (excluding 'diseases')\n",
    "all_symptoms = df.columns.tolist()\n",
    "all_symptoms.remove(\"diseases\")\n",
    "\n",
    "# Save the list of symptoms for use in app\n",
    "with open(\"../model/model_all_symptoms.pkl\", \"wb\") as f:\n",
    "    pickle.dump(all_symptoms, f)"
   ]
  },
  {
   "cell_type": "code",
   "execution_count": 4,
   "id": "656e1ddf-e981-4a50-b68c-220e41ec9c50",
   "metadata": {},
   "outputs": [],
   "source": [
    "# Load pretrained SentenceTransformer model\n",
    "model = SentenceTransformer(\"all-MiniLM-L6-v2\")\n",
    "\n",
    "# Create a dictionary mapping symptom → vector\n",
    "symptom_embeddings = {symptom: model.encode(symptom) for symptom in all_symptoms}\n",
    "\n",
    "# Save the embeddings\n",
    "with open(\"../model/model_symptom_embeddings.pkl\", \"wb\") as f:\n",
    "    pickle.dump(symptom_embeddings, f)"
   ]
  },
  {
   "cell_type": "code",
   "execution_count": 8,
   "id": "6a9ab530-b902-47a2-a2a0-e277d9821fb3",
   "metadata": {},
   "outputs": [
    {
     "name": "stderr",
     "output_type": "stream",
     "text": [
      "[nltk_data] Downloading package stopwords to\n",
      "[nltk_data]     /Users/jeetshah/nltk_data...\n",
      "[nltk_data]   Package stopwords is already up-to-date!\n"
     ]
    }
   ],
   "source": [
    "import re\n",
    "import nltk\n",
    "from nltk.corpus import stopwords\n",
    "from sentence_transformers import util, SentenceTransformer\n",
    "import pickle\n",
    "\n",
    "nltk.download('stopwords')\n",
    "stop_words = set(stopwords.words('english'))\n",
    "\n",
    "# Load models\n",
    "with open(\"../model/model_symptom_embeddings.pkl\", \"rb\") as f:\n",
    "    symptom_embeddings = pickle.load(f)\n",
    "\n",
    "symptom_list = list(symptom_embeddings.keys())\n",
    "symptom_vectors = list(symptom_embeddings.values())\n",
    "\n",
    "model = SentenceTransformer(\"all-MiniLM-L6-v2\")\n",
    "\n",
    "# Clean and extract keywords from user message\n",
    "def clean_input(text):\n",
    "    text = text.lower()\n",
    "    text = re.sub(r'[^a-zA-Z\\s]', '', text)  # remove punctuation\n",
    "    words = text.split()\n",
    "    filtered = [word for word in words if word not in stop_words]\n",
    "    return \" \".join(filtered)\n",
    "\n",
    "# Match to top symptoms\n",
    "def extract_symptoms_cleaned(user_input, top_k=5):\n",
    "    cleaned = clean_input(user_input)\n",
    "    input_vec = model.encode(cleaned, convert_to_tensor=True)\n",
    "    input_vec = input_vec.cpu()  # ✅ force to CPU to match stored embeddings\n",
    "\n",
    "    scores = [(symptom, float(util.cos_sim(input_vec, vec))) for symptom, vec in symptom_embeddings.items()]\n",
    "    top_matches = sorted(scores, key=lambda x: x[1], reverse=True)[:top_k]\n",
    "    return top_matches"
   ]
  },
  {
   "cell_type": "code",
   "execution_count": 9,
   "id": "7e39327f-ad95-463b-9cbb-90f72fc46dd2",
   "metadata": {},
   "outputs": [
    {
     "name": "stdout",
     "output_type": "stream",
     "text": [
      "Cleaned: sore throat really bad chest pain\n"
     ]
    },
    {
     "ename": "RuntimeError",
     "evalue": "Tensor for argument #2 'mat2' is on CPU, but expected it to be on GPU (while checking arguments for mm)",
     "output_type": "error",
     "traceback": [
      "\u001b[0;31m---------------------------------------------------------------------------\u001b[0m",
      "\u001b[0;31mRuntimeError\u001b[0m                              Traceback (most recent call last)",
      "Cell \u001b[0;32mIn[9], line 3\u001b[0m\n\u001b[1;32m      1\u001b[0m test_input \u001b[38;5;241m=\u001b[39m \u001b[38;5;124m\"\u001b[39m\u001b[38;5;124mI have a sore throat and a really bad chest pain\u001b[39m\u001b[38;5;124m\"\u001b[39m\n\u001b[1;32m      2\u001b[0m \u001b[38;5;28mprint\u001b[39m(\u001b[38;5;124m\"\u001b[39m\u001b[38;5;124mCleaned:\u001b[39m\u001b[38;5;124m\"\u001b[39m, clean_input(test_input))\n\u001b[0;32m----> 3\u001b[0m \u001b[38;5;28;01mfor\u001b[39;00m symptom, score \u001b[38;5;129;01min\u001b[39;00m extract_symptoms_cleaned(test_input):\n\u001b[1;32m      4\u001b[0m     \u001b[38;5;28mprint\u001b[39m(\u001b[38;5;124mf\u001b[39m\u001b[38;5;124m\"\u001b[39m\u001b[38;5;132;01m{\u001b[39;00msymptom\u001b[38;5;132;01m}\u001b[39;00m\u001b[38;5;124m → score: \u001b[39m\u001b[38;5;132;01m{\u001b[39;00mscore\u001b[38;5;132;01m:\u001b[39;00m\u001b[38;5;124m.4f\u001b[39m\u001b[38;5;132;01m}\u001b[39;00m\u001b[38;5;124m\"\u001b[39m)\n",
      "Cell \u001b[0;32mIn[8], line 31\u001b[0m, in \u001b[0;36mextract_symptoms_cleaned\u001b[0;34m(user_input, top_k)\u001b[0m\n\u001b[1;32m     29\u001b[0m cleaned \u001b[38;5;241m=\u001b[39m clean_input(user_input)\n\u001b[1;32m     30\u001b[0m input_vec \u001b[38;5;241m=\u001b[39m model\u001b[38;5;241m.\u001b[39mencode(cleaned, convert_to_tensor\u001b[38;5;241m=\u001b[39m\u001b[38;5;28;01mTrue\u001b[39;00m)\n\u001b[0;32m---> 31\u001b[0m scores \u001b[38;5;241m=\u001b[39m [(symptom, \u001b[38;5;28mfloat\u001b[39m(util\u001b[38;5;241m.\u001b[39mcos_sim(input_vec, vec))) \u001b[38;5;28;01mfor\u001b[39;00m symptom, vec \u001b[38;5;129;01min\u001b[39;00m symptom_embeddings\u001b[38;5;241m.\u001b[39mitems()]\n\u001b[1;32m     32\u001b[0m top_matches \u001b[38;5;241m=\u001b[39m \u001b[38;5;28msorted\u001b[39m(scores, key\u001b[38;5;241m=\u001b[39m\u001b[38;5;28;01mlambda\u001b[39;00m x: x[\u001b[38;5;241m1\u001b[39m], reverse\u001b[38;5;241m=\u001b[39m\u001b[38;5;28;01mTrue\u001b[39;00m)[:top_k]\n\u001b[1;32m     33\u001b[0m \u001b[38;5;28;01mreturn\u001b[39;00m top_matches\n",
      "File \u001b[0;32m/opt/anaconda3/lib/python3.12/site-packages/sentence_transformers/util.py:108\u001b[0m, in \u001b[0;36mcos_sim\u001b[0;34m(a, b)\u001b[0m\n\u001b[1;32m    106\u001b[0m a_norm \u001b[38;5;241m=\u001b[39m normalize_embeddings(a)\n\u001b[1;32m    107\u001b[0m b_norm \u001b[38;5;241m=\u001b[39m normalize_embeddings(b)\n\u001b[0;32m--> 108\u001b[0m \u001b[38;5;28;01mreturn\u001b[39;00m torch\u001b[38;5;241m.\u001b[39mmm(a_norm, b_norm\u001b[38;5;241m.\u001b[39mtranspose(\u001b[38;5;241m0\u001b[39m, \u001b[38;5;241m1\u001b[39m))\n",
      "\u001b[0;31mRuntimeError\u001b[0m: Tensor for argument #2 'mat2' is on CPU, but expected it to be on GPU (while checking arguments for mm)"
     ]
    }
   ],
   "source": [
    "test_input = \"I have a sore throat and a really bad chest pain\"\n",
    "print(\"Cleaned:\", clean_input(test_input))\n",
    "for symptom, score in extract_symptoms_cleaned(test_input):\n",
    "    print(f\"{symptom} → score: {score:.4f}\")"
   ]
  },
  {
   "cell_type": "code",
   "execution_count": null,
   "id": "a26fec1a-4e11-421b-860c-a4150c94b86a",
   "metadata": {},
   "outputs": [],
   "source": []
  }
 ],
 "metadata": {
  "kernelspec": {
   "display_name": "Python 3 (ipykernel)",
   "language": "python",
   "name": "python3"
  },
  "language_info": {
   "codemirror_mode": {
    "name": "ipython",
    "version": 3
   },
   "file_extension": ".py",
   "mimetype": "text/x-python",
   "name": "python",
   "nbconvert_exporter": "python",
   "pygments_lexer": "ipython3",
   "version": "3.12.7"
  }
 },
 "nbformat": 4,
 "nbformat_minor": 5
}
